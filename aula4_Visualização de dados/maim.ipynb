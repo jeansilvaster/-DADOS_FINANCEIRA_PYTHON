{
 "cells": [
  {
   "cell_type": "code",
   "execution_count": 17,
   "metadata": {},
   "outputs": [],
   "source": [
    "#Aula 03 – Manipulação de dados com Ações Financeiras\n",
    "import pandas as pd\n",
    "import numpy as np\n",
    "from pandas_datareader import data\n",
    "import matplotlib.pyplot as plt\n",
    "import seaborn as sn\n",
    "import plotly.express as px\n",
    "from datetime import date, datetime,timedelta\n",
    "import yfinance as yf"
   ]
  },
  {
   "cell_type": "code",
   "execution_count": 18,
   "metadata": {},
   "outputs": [
    {
     "ename": "AttributeError",
     "evalue": "module 'pandas' has no attribute 'dataframe'",
     "output_type": "error",
     "traceback": [
      "\u001b[1;31m---------------------------------------------------------------------------\u001b[0m",
      "\u001b[1;31mAttributeError\u001b[0m                            Traceback (most recent call last)",
      "\u001b[1;32mc:\\Users\\jeansilva\\Documents\\soucodgran\\finance\\maim.ipynb Cell 2\u001b[0m line \u001b[0;36m3\n\u001b[0;32m      <a href='vscode-notebook-cell:/c%3A/Users/jeansilva/Documents/soucodgran/finance/maim.ipynb#X12sZmlsZQ%3D%3D?line=0'>1</a>\u001b[0m acoes \u001b[39m=\u001b[39m [\u001b[39m'\u001b[39m\u001b[39mAMER3.SA\u001b[39m\u001b[39m'\u001b[39m, \u001b[39m'\u001b[39m\u001b[39mCVCB3.SA\u001b[39m\u001b[39m'\u001b[39m, \u001b[39m'\u001b[39m\u001b[39mWEGE3.SA\u001b[39m\u001b[39m'\u001b[39m, \u001b[39m'\u001b[39m\u001b[39mMGLU3.SA\u001b[39m\u001b[39m'\u001b[39m, \u001b[39m'\u001b[39m\u001b[39mBOVA11.SA\u001b[39m\u001b[39m'\u001b[39m]\n\u001b[1;32m----> <a href='vscode-notebook-cell:/c%3A/Users/jeansilva/Documents/soucodgran/finance/maim.ipynb#X12sZmlsZQ%3D%3D?line=2'>3</a>\u001b[0m df1 \u001b[39m=\u001b[39m pd\u001b[39m.\u001b[39mdataframe\n\u001b[0;32m      <a href='vscode-notebook-cell:/c%3A/Users/jeansilva/Documents/soucodgran/finance/maim.ipynb#X12sZmlsZQ%3D%3D?line=4'>5</a>\u001b[0m \u001b[39mfor\u001b[39;00m ativo \u001b[39min\u001b[39;00m acoes:\n\u001b[0;32m      <a href='vscode-notebook-cell:/c%3A/Users/jeansilva/Documents/soucodgran/finance/maim.ipynb#X12sZmlsZQ%3D%3D?line=5'>6</a>\u001b[0m     chamada_api \u001b[39m=\u001b[39m yf\u001b[39m.\u001b[39mTicker(ativo)\u001b[39m.\u001b[39mhistory(period\u001b[39m=\u001b[39m\u001b[39m'\u001b[39m\u001b[39m36mo\u001b[39m\u001b[39m'\u001b[39m)\n",
      "\u001b[1;31mAttributeError\u001b[0m: module 'pandas' has no attribute 'dataframe'"
     ]
    }
   ],
   "source": [
    "symbol_list = ['AMER3.SA', 'CVCB3.SA', 'WEGE3.SA', 'MGLU3.SA', 'BOVA11.SA']\n",
    "\n",
    "df1 = pd.dataframe\n",
    "\n",
    "for ativo in acoes:\n",
    "    chamada_api = yf.Ticker(ativo).history(period='36mo')\n",
    "    closes = chamada_api['Close']\n",
    "    df1[ativo] = closes\n",
    "\n",
    "  \n",
    "df1"
   ]
  },
  {
   "cell_type": "code",
   "execution_count": null,
   "metadata": {},
   "outputs": [],
   "source": []
  }
 ],
 "metadata": {
  "kernelspec": {
   "display_name": "base",
   "language": "python",
   "name": "python3"
  },
  "language_info": {
   "codemirror_mode": {
    "name": "ipython",
    "version": 3
   },
   "file_extension": ".py",
   "mimetype": "text/x-python",
   "name": "python",
   "nbconvert_exporter": "python",
   "pygments_lexer": "ipython3",
   "version": "3.11.5"
  }
 },
 "nbformat": 4,
 "nbformat_minor": 2
}
